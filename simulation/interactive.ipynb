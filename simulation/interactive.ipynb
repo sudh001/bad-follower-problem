{
 "cells": [
  {
   "cell_type": "code",
   "execution_count": 1,
   "id": "6e655462",
   "metadata": {},
   "outputs": [],
   "source": [
    "import networkx as nx\n",
    "import bad_follower_sim as bfs\n",
    "import bad_follower_formula as bf_f\n",
    "import matplotlib.pyplot as plt\n",
    "import numpy as np\n",
    "import helpers as hp\n",
    "import random as r\n",
    "%matplotlib inline"
   ]
  },
  {
   "cell_type": "code",
   "execution_count": 2,
   "id": "782c00b5",
   "metadata": {},
   "outputs": [],
   "source": [
    "def edges_to_graph(edges):\n",
    "    G = nx.Graph()\n",
    "    G.add_weighted_edges_from(edges)\n",
    "    return G \n",
    "\n",
    "def draw_graph_with_labels(G):\n",
    "  edge_labels = {(u, v): d['weight'] for u, v, d in G.edges(data=True)}\n",
    "  pos = nx.spring_layout(G)\n",
    "  nx.draw(G,pos = pos, with_labels = True)\n",
    "  nx.draw_networkx_edge_labels(G,pos, edge_labels = edge_labels)"
   ]
  },
  {
   "cell_type": "code",
   "execution_count": 3,
   "id": "eacf33bf",
   "metadata": {},
   "outputs": [
    {
     "data": {
      "image/png": "[encoded data removed]",
      "text/plain": [
       "<Figure size 432x288 with 1 Axes>"
      ]
     },
     "metadata": {},
     "output_type": "display_data"
    }
   ],
   "source": [
    "# Note: While you can add any graph of your choice here, make sure that nodes of the graph are from {0... (num_nodes_in_G - 1)}\n",
    "edges = [\n",
    "    (0, 1, 2.0),\n",
    "    (1, 2, 1.2),\n",
    "    (2, 3, 4.3),\n",
    "    (1, 4, 1.1),\n",
    "    (2, 4, 0.2)\n",
    "]\n",
    "\n",
    "G = edges_to_graph(edges)\n",
    "draw_graph_with_labels(G)"
   ]
  },
  {
   "cell_type": "code",
   "execution_count": 4,
   "id": "6061003d",
   "metadata": {},
   "outputs": [
    {
     "name": "stdout",
     "output_type": "stream",
     "text": [
      "avg shortest_path bw 0 and 3 using formula [15.90066372]\n",
      "avg shortest_path avg dist bw 0 and 3 by 200 simulations:  15.861499999999994\n"
     ]
    }
   ],
   "source": [
    "p = 0.1\n",
    "en = 3\n",
    "st = 0\n",
    "st_ind = list(G.nodes()).index(st)\n",
    "n_sim = 200\n",
    "\n",
    "print(f\"avg shortest_path bw {st} and {en} using formula\", bf_f.avg_dist_travelled_by_bad_follower(G, en, p)[st_ind])\n",
    "\n",
    "print(f\"avg shortest_path avg dist bw {st} and {en} by {n_sim} simulations: \", bfs.avg_dist_travelled_by_bad_follower(G, st, en, p, n_sim))\n"
   ]
  },
  {
   "cell_type": "code",
   "execution_count": null,
   "id": "4a54cdd5",
   "metadata": {},
   "outputs": [],
   "source": []
  }
 ],
 "metadata": {
  "kernelspec": {
   "display_name": "Python 3",
   "language": "python",
   "name": "python3"
  },
  "language_info": {
   "codemirror_mode": {
    "name": "ipython",
    "version": 3
   },
   "file_extension": ".py",
   "mimetype": "text/x-python",
   "name": "python",
   "nbconvert_exporter": "python",
   "pygments_lexer": "ipython3",
   "version": "3.8.8"
  }
 },
 "nbformat": 4,
 "nbformat_minor": 5
}
